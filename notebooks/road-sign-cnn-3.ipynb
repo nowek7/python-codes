{
  "nbformat": 4,
  "nbformat_minor": 0,
  "metadata": {
    "colab": {
      "name": "day4.ipynb",
      "provenance": [],
      "collapsed_sections": []
    },
    "kernelspec": {
      "name": "python3",
      "display_name": "Python 3"
    },
    "accelerator": "GPU"
  },
  "cells": [
    {
      "cell_type": "markdown",
      "metadata": {
        "id": "rKIRwcupnnCF",
        "colab_type": "text"
      },
      "source": [
        "Packages"
      ]
    },
    {
      "cell_type": "code",
      "metadata": {
        "id": "wF6mWO1ymotf",
        "colab_type": "code",
        "outputId": "6cd5d5c5-4e14-4feb-8b34-5f3471da7171",
        "colab": {
          "base_uri": "https://localhost:8080/",
          "height": 53
        }
      },
      "source": [
        "import pandas as pd\n",
        "import numpy as np\n",
        "import os\n",
        "import datetime\n",
        "\n",
        "import matplotlib.pyplot as plt\n",
        "from skimage import color, exposure\n",
        "\n",
        "import tensorflow as tf\n",
        "from tensorflow.keras.models import Sequential\n",
        "from tensorflow.keras.layers import Conv2D, MaxPool2D, Dense, Flatten, Dropout\n",
        "from tensorflow.keras.utils import to_categorical\n",
        "\n",
        "from sklearn.metrics import accuracy_score\n",
        "\n",
        "%load_ext tensorboard"
      ],
      "execution_count": 0,
      "outputs": [
        {
          "output_type": "stream",
          "text": [
            "The tensorboard extension is already loaded. To reload it, use:\n",
            "  %reload_ext tensorboard\n"
          ],
          "name": "stdout"
        }
      ]
    },
    {
      "cell_type": "code",
      "metadata": {
        "id": "eTxfD8QWf4-p",
        "colab_type": "code",
        "outputId": "ac701716-6935-42c6-a1dd-ea436d0a68b7",
        "colab": {
          "base_uri": "https://localhost:8080/",
          "height": 35
        }
      },
      "source": [
        "cd 'drive/My Drive/Colab Notebooks/notebooks'"
      ],
      "execution_count": 0,
      "outputs": [
        {
          "output_type": "stream",
          "text": [
            "/content/drive/My Drive/Colab Notebooks/notebooks\n"
          ],
          "name": "stdout"
        }
      ]
    },
    {
      "cell_type": "markdown",
      "metadata": {
        "id": "p6-XWS6CnpFm",
        "colab_type": "text"
      },
      "source": [
        "Data"
      ]
    },
    {
      "cell_type": "code",
      "metadata": {
        "id": "FhzxV10gnJM2",
        "colab_type": "code",
        "colab": {}
      },
      "source": [
        "train = pd.read_pickle('../data/train.p')\n",
        "test = pd.read_pickle('../data/test.p')\n",
        "signnames = pd.read_csv('../data/signnames.csv')"
      ],
      "execution_count": 0,
      "outputs": []
    },
    {
      "cell_type": "code",
      "metadata": {
        "id": "qlW8oBX5nNjH",
        "colab_type": "code",
        "colab": {}
      },
      "source": [
        "xTrain, yTrain = train['features'], train['labels']\n",
        "xTest, yTest = test['features'], test['labels']\n",
        "labelsDict = signnames.to_dict()['b']\n",
        "\n",
        "if yTrain.ndim == 1:\n",
        "    yTrain = to_categorical(yTrain)\n",
        "    \n",
        "if yTest.ndim == 1:\n",
        "    yTest = to_categorical(yTest)"
      ],
      "execution_count": 0,
      "outputs": []
    },
    {
      "cell_type": "markdown",
      "metadata": {
        "id": "IEcM1MOEnhH3",
        "colab_type": "text"
      },
      "source": [
        "Base parameters of model."
      ]
    },
    {
      "cell_type": "code",
      "metadata": {
        "id": "y55ygKH7ndsx",
        "colab_type": "code",
        "colab": {}
      },
      "source": [
        "inputShape = xTrain.shape[1:]\n",
        "numClasses = yTrain.shape[1]"
      ],
      "execution_count": 0,
      "outputs": []
    },
    {
      "cell_type": "markdown",
      "metadata": {
        "id": "DMWf8w_5nsv1",
        "colab_type": "text"
      },
      "source": [
        "Base model"
      ]
    },
    {
      "cell_type": "code",
      "metadata": {
        "id": "b_zUHJ96nfx4",
        "colab_type": "code",
        "outputId": "ebf6184b-cdb7-4929-bc54-8ed5ad022109",
        "colab": {
          "base_uri": "https://localhost:8080/",
          "height": 269
        }
      },
      "source": [
        "model = Sequential([\n",
        "    Conv2D(filters = 64, kernel_size = (3, 3), activation = 'relu', input_shape = inputShape),\n",
        "    Flatten(),\n",
        "    Dense(numClasses, activation = 'softmax')\n",
        "])\n",
        "\n",
        "model.summary()"
      ],
      "execution_count": 0,
      "outputs": [
        {
          "output_type": "stream",
          "text": [
            "Model: \"sequential\"\n",
            "_________________________________________________________________\n",
            "Layer (type)                 Output Shape              Param #   \n",
            "=================================================================\n",
            "conv2d (Conv2D)              (None, 30, 30, 64)        1792      \n",
            "_________________________________________________________________\n",
            "flatten (Flatten)            (None, 57600)             0         \n",
            "_________________________________________________________________\n",
            "dense (Dense)                (None, 43)                2476843   \n",
            "=================================================================\n",
            "Total params: 2,478,635\n",
            "Trainable params: 2,478,635\n",
            "Non-trainable params: 0\n",
            "_________________________________________________________________\n"
          ],
          "name": "stdout"
        }
      ]
    },
    {
      "cell_type": "code",
      "metadata": {
        "id": "huccZzpAoyus",
        "colab_type": "code",
        "outputId": "3ce202c2-7020-41e3-cded-78f3cc7505a9",
        "colab": {
          "base_uri": "https://localhost:8080/",
          "height": 53
        }
      },
      "source": [
        "model.compile(loss = 'categorical_crossentropy', optimizer = 'Adam', metrics = ['accuracy'])\n",
        "model.fit(xTrain, yTrain)"
      ],
      "execution_count": 0,
      "outputs": [
        {
          "output_type": "stream",
          "text": [
            "1088/1088 [==============================] - 8s 7ms/step - loss: 8.1872 - accuracy: 0.8027\n"
          ],
          "name": "stdout"
        },
        {
          "output_type": "execute_result",
          "data": {
            "text/plain": [
              "<tensorflow.python.keras.callbacks.History at 0x7f1d506003c8>"
            ]
          },
          "metadata": {
            "tags": []
          },
          "execution_count": 13
        }
      ]
    },
    {
      "cell_type": "code",
      "metadata": {
        "id": "5zS2_nSEnaKn",
        "colab_type": "code",
        "colab": {}
      },
      "source": [
        "def getCNN_v1(aInputShape: list, aNumClasses: int) -> Sequential:\n",
        "    return Sequential([\n",
        "        Conv2D(filters = 64, kernel_size = (3, 3), activation = 'relu', input_shape = aInputShape),\n",
        "        Flatten(),\n",
        "        Dense(aNumClasses, activation = 'softmax')\n",
        "    ])\n",
        "\n",
        "def trainModel(aModel: Sequential, aXTrain, aYTrain, aParamsFit = {}):\n",
        "    aModel.compile(loss = 'categorical_crossentropy', optimizer = 'Adam', metrics = ['accuracy'])\n",
        "    \n",
        "    logdir = os.path.join('logs', datetime.datetime.now().strftime('%y%m%d-%H%M%S'))\n",
        "    tensorboardCallback = tf.keras.callbacks.TensorBoard(logdir, histogram_freq = 1)\n",
        "    \n",
        "    aModel.fit(\n",
        "        aXTrain, \n",
        "        aYTrain,\n",
        "        batch_size = aParamsFit.get('batch_size', 128),\n",
        "        epochs = aParamsFit.get('epochs', 5),\n",
        "        verbose = aParamsFit.get('verbose', 1),\n",
        "        validation_data = aParamsFit.get('validation_data', (aXTrain, aYTrain)),\n",
        "        callbacks = [tensorboardCallback])\n",
        "    \n",
        "    return model"
      ],
      "execution_count": 0,
      "outputs": []
    },
    {
      "cell_type": "code",
      "metadata": {
        "id": "is2l37WVnXk_",
        "colab_type": "code",
        "outputId": "845d15bf-4670-4579-e984-54eb8db59023",
        "colab": {
          "base_uri": "https://localhost:8080/",
          "height": 217
        }
      },
      "source": [
        "model = getCNN_v1(inputShape, numClasses)\n",
        "modelTrained = trainModel(model, xTrain, yTrain)"
      ],
      "execution_count": 0,
      "outputs": [
        {
          "output_type": "stream",
          "text": [
            "Epoch 1/5\n",
            "272/272 [==============================] - 5s 17ms/step - loss: 23.5769 - accuracy: 0.7652 - val_loss: 0.2374 - val_accuracy: 0.9467\n",
            "Epoch 2/5\n",
            "272/272 [==============================] - 5s 17ms/step - loss: 0.2261 - accuracy: 0.9474 - val_loss: 0.1408 - val_accuracy: 0.9710\n",
            "Epoch 3/5\n",
            "272/272 [==============================] - 5s 17ms/step - loss: 0.1719 - accuracy: 0.9600 - val_loss: 0.2216 - val_accuracy: 0.9558\n",
            "Epoch 4/5\n",
            "272/272 [==============================] - 5s 17ms/step - loss: 0.1303 - accuracy: 0.9720 - val_loss: 0.0895 - val_accuracy: 0.9816\n",
            "Epoch 5/5\n",
            "272/272 [==============================] - 5s 17ms/step - loss: 0.0775 - accuracy: 0.9828 - val_loss: 0.0751 - val_accuracy: 0.9832\n"
          ],
          "name": "stdout"
        }
      ]
    },
    {
      "cell_type": "code",
      "metadata": {
        "id": "-uvVxSQUgo3z",
        "colab_type": "code",
        "colab": {}
      },
      "source": [
        "def predict(aTrainedModel, aXTest, aYTest, scoring = accuracy_score):\n",
        "  yTestNorm = np.argmax(aYTest, axis = 1)\n",
        "\n",
        "  yPredProb = aTrainedModel.predict(aXTest)\n",
        "  yPred = np.argmax(yPredProb, axis = 1)\n",
        "\n",
        "  return scoring(yTestNorm, yPred)"
      ],
      "execution_count": 0,
      "outputs": []
    },
    {
      "cell_type": "code",
      "metadata": {
        "id": "w49YGY78idqL",
        "colab_type": "code",
        "outputId": "8963c5eb-a58a-46c9-f696-3f3b1eebbbd0",
        "colab": {
          "base_uri": "https://localhost:8080/",
          "height": 35
        }
      },
      "source": [
        "predict(modelTrained, xTest, yTest)"
      ],
      "execution_count": 0,
      "outputs": [
        {
          "output_type": "execute_result",
          "data": {
            "text/plain": [
              "0.8251700680272109"
            ]
          },
          "metadata": {
            "tags": []
          },
          "execution_count": 74
        }
      ]
    },
    {
      "cell_type": "code",
      "metadata": {
        "id": "OQngjYxsj6ff",
        "colab_type": "code",
        "outputId": "5429ea39-4660-43d2-b262-ee953e44b4cd",
        "colab": {
          "base_uri": "https://localhost:8080/",
          "height": 235
        }
      },
      "source": [
        "model = getCNN_v1(inputShape, numClasses)\n",
        "modelTrained = trainModel(model, xTrain, yTrain)\n",
        "predict(modelTrained, xTest, yTest)"
      ],
      "execution_count": 0,
      "outputs": [
        {
          "output_type": "stream",
          "text": [
            "Epoch 1/5\n",
            "272/272 [==============================] - 5s 17ms/step - loss: 34.0666 - accuracy: 0.7515 - val_loss: 0.2587 - val_accuracy: 0.9433\n",
            "Epoch 2/5\n",
            "272/272 [==============================] - 5s 17ms/step - loss: 0.2090 - accuracy: 0.9539 - val_loss: 0.1253 - val_accuracy: 0.9705\n",
            "Epoch 3/5\n",
            "272/272 [==============================] - 5s 17ms/step - loss: 0.1508 - accuracy: 0.9692 - val_loss: 0.1489 - val_accuracy: 0.9644\n",
            "Epoch 4/5\n",
            "272/272 [==============================] - 5s 17ms/step - loss: 0.1091 - accuracy: 0.9763 - val_loss: 0.0708 - val_accuracy: 0.9830\n",
            "Epoch 5/5\n",
            "272/272 [==============================] - 5s 17ms/step - loss: 0.0883 - accuracy: 0.9808 - val_loss: 0.0625 - val_accuracy: 0.9868\n"
          ],
          "name": "stdout"
        },
        {
          "output_type": "execute_result",
          "data": {
            "text/plain": [
              "0.8299319727891157"
            ]
          },
          "metadata": {
            "tags": []
          },
          "execution_count": 75
        }
      ]
    },
    {
      "cell_type": "code",
      "metadata": {
        "id": "DDZbxgaEnT78",
        "colab_type": "code",
        "colab": {}
      },
      "source": [
        "def getCNN_v2(aInputShape: list, aNumClasses: int) -> Sequential:\n",
        "    return Sequential([\n",
        "        Conv2D(filters = 32, kernel_size = (3, 3), activation = 'relu', input_shape = aInputShape),\n",
        "        MaxPool2D(),\n",
        "        Dropout(0.5),\n",
        "        \n",
        "        Conv2D(filters = 64, kernel_size = (3, 3), activation = 'relu', input_shape = aInputShape),\n",
        "        MaxPool2D(),\n",
        "        Dropout(0.3),\n",
        "        \n",
        "        Flatten(),\n",
        "        \n",
        "        Dense(1024, activation = 'relu'),\n",
        "        Dropout(0.5),\n",
        "        \n",
        "        Dense(aNumClasses, activation = 'softmax')\n",
        "    ])"
      ],
      "execution_count": 0,
      "outputs": []
    },
    {
      "cell_type": "code",
      "metadata": {
        "id": "ANcswQqnnNtY",
        "colab_type": "code",
        "outputId": "109027be-52d4-457d-a91e-29a7ea53aec5",
        "colab": {
          "base_uri": "https://localhost:8080/",
          "height": 955
        }
      },
      "source": [
        "model = getCNN_v2(inputShape, numClasses)\n",
        "paramsFit = {'epochs': 25}\n",
        "modelTrained = trainModel(model, xTrain, yTrain, paramsFit)\n",
        "predict(modelTrained, xTest, yTest)"
      ],
      "execution_count": 0,
      "outputs": [
        {
          "output_type": "stream",
          "text": [
            "Epoch 1/25\n",
            "272/272 [==============================] - 4s 14ms/step - loss: 7.1942 - accuracy: 0.1303 - val_loss: 2.4855 - val_accuracy: 0.3417\n",
            "Epoch 2/25\n",
            "272/272 [==============================] - 4s 14ms/step - loss: 1.8784 - accuracy: 0.4646 - val_loss: 0.8710 - val_accuracy: 0.7821\n",
            "Epoch 3/25\n",
            "272/272 [==============================] - 4s 14ms/step - loss: 1.0660 - accuracy: 0.6844 - val_loss: 0.3856 - val_accuracy: 0.9124\n",
            "Epoch 4/25\n",
            "272/272 [==============================] - 4s 14ms/step - loss: 0.7324 - accuracy: 0.7784 - val_loss: 0.2401 - val_accuracy: 0.9493\n",
            "Epoch 5/25\n",
            "272/272 [==============================] - 4s 14ms/step - loss: 0.5562 - accuracy: 0.8299 - val_loss: 0.1656 - val_accuracy: 0.9629\n",
            "Epoch 6/25\n",
            "272/272 [==============================] - 4s 14ms/step - loss: 0.4535 - accuracy: 0.8619 - val_loss: 0.1319 - val_accuracy: 0.9682\n",
            "Epoch 7/25\n",
            "272/272 [==============================] - 4s 14ms/step - loss: 0.4110 - accuracy: 0.8763 - val_loss: 0.1101 - val_accuracy: 0.9786\n",
            "Epoch 8/25\n",
            "272/272 [==============================] - 4s 14ms/step - loss: 0.3614 - accuracy: 0.8905 - val_loss: 0.0913 - val_accuracy: 0.9770\n",
            "Epoch 9/25\n",
            "272/272 [==============================] - 4s 14ms/step - loss: 0.3326 - accuracy: 0.8986 - val_loss: 0.0657 - val_accuracy: 0.9864\n",
            "Epoch 10/25\n",
            "272/272 [==============================] - 4s 14ms/step - loss: 0.2971 - accuracy: 0.9087 - val_loss: 0.0571 - val_accuracy: 0.9852\n",
            "Epoch 11/25\n",
            "272/272 [==============================] - 4s 14ms/step - loss: 0.2879 - accuracy: 0.9136 - val_loss: 0.0554 - val_accuracy: 0.9860\n",
            "Epoch 12/25\n",
            "272/272 [==============================] - 4s 14ms/step - loss: 0.2746 - accuracy: 0.9191 - val_loss: 0.0448 - val_accuracy: 0.9876\n",
            "Epoch 13/25\n",
            "272/272 [==============================] - 4s 14ms/step - loss: 0.2503 - accuracy: 0.9250 - val_loss: 0.0414 - val_accuracy: 0.9915\n",
            "Epoch 14/25\n",
            "272/272 [==============================] - 4s 14ms/step - loss: 0.2368 - accuracy: 0.9300 - val_loss: 0.0404 - val_accuracy: 0.9893\n",
            "Epoch 15/25\n",
            "272/272 [==============================] - 4s 14ms/step - loss: 0.2302 - accuracy: 0.9324 - val_loss: 0.0370 - val_accuracy: 0.9911\n",
            "Epoch 16/25\n",
            "272/272 [==============================] - 4s 14ms/step - loss: 0.2432 - accuracy: 0.9310 - val_loss: 0.0351 - val_accuracy: 0.9915\n",
            "Epoch 17/25\n",
            "272/272 [==============================] - 4s 14ms/step - loss: 0.2586 - accuracy: 0.9264 - val_loss: 0.0371 - val_accuracy: 0.9893\n",
            "Epoch 18/25\n",
            "272/272 [==============================] - 4s 14ms/step - loss: 0.2385 - accuracy: 0.9320 - val_loss: 0.0309 - val_accuracy: 0.9928\n",
            "Epoch 19/25\n",
            "272/272 [==============================] - 4s 14ms/step - loss: 0.2167 - accuracy: 0.9394 - val_loss: 0.0287 - val_accuracy: 0.9924\n",
            "Epoch 20/25\n",
            "272/272 [==============================] - 4s 14ms/step - loss: 0.2050 - accuracy: 0.9434 - val_loss: 0.0207 - val_accuracy: 0.9946\n",
            "Epoch 21/25\n",
            "272/272 [==============================] - 4s 14ms/step - loss: 0.2140 - accuracy: 0.9408 - val_loss: 0.0209 - val_accuracy: 0.9953\n",
            "Epoch 22/25\n",
            "272/272 [==============================] - 4s 14ms/step - loss: 0.2218 - accuracy: 0.9403 - val_loss: 0.0195 - val_accuracy: 0.9952\n",
            "Epoch 23/25\n",
            "272/272 [==============================] - 4s 14ms/step - loss: 0.2144 - accuracy: 0.9433 - val_loss: 0.0177 - val_accuracy: 0.9964\n",
            "Epoch 24/25\n",
            "272/272 [==============================] - 4s 14ms/step - loss: 0.2149 - accuracy: 0.9438 - val_loss: 0.0200 - val_accuracy: 0.9953\n",
            "Epoch 25/25\n",
            "272/272 [==============================] - 4s 14ms/step - loss: 0.2061 - accuracy: 0.9454 - val_loss: 0.0160 - val_accuracy: 0.9959\n"
          ],
          "name": "stdout"
        },
        {
          "output_type": "execute_result",
          "data": {
            "text/plain": [
              "0.9507936507936507"
            ]
          },
          "metadata": {
            "tags": []
          },
          "execution_count": 77
        }
      ]
    },
    {
      "cell_type": "code",
      "metadata": {
        "id": "umqgqm0UkdOY",
        "colab_type": "code",
        "colab": {}
      },
      "source": [
        "def trainAndPredict(aModel):\n",
        "  trainedModel = trainModel(aModel, xTrain, yTrain)\n",
        "  \n",
        "  return predict(trainedModel, xTest, yTest)"
      ],
      "execution_count": 0,
      "outputs": []
    },
    {
      "cell_type": "code",
      "metadata": {
        "id": "_nL3gicEk7jP",
        "colab_type": "code",
        "outputId": "715fde69-c0ff-43c6-a3fa-d7dfadf6177b",
        "colab": {
          "base_uri": "https://localhost:8080/",
          "height": 235
        }
      },
      "source": [
        "def getCNN_v3(aInputShape: list, aNumClasses: int) -> Sequential:\n",
        "    return Sequential([\n",
        "        Conv2D(filters = 32, kernel_size = (3, 3), activation = 'relu', input_shape = aInputShape),\n",
        "        MaxPool2D(),\n",
        "        Dropout(0.3),\n",
        "        \n",
        "        Conv2D(filters = 64, kernel_size = (3, 3), activation = 'relu'),\n",
        "        MaxPool2D(),\n",
        "        Dropout(0.3),\n",
        "        \n",
        "        Flatten(),\n",
        "\n",
        "        Dense(1024, activation = 'relu'),\n",
        "        Dropout(0.3),\n",
        "\n",
        "        Dense(aNumClasses, activation = 'softmax')\n",
        "    ])\n",
        "\n",
        "trainAndPredict(getCNN_v3(inputShape, numClasses))"
      ],
      "execution_count": 0,
      "outputs": [
        {
          "output_type": "stream",
          "text": [
            "Epoch 1/5\n",
            "272/272 [==============================] - 4s 15ms/step - loss: 7.3861 - accuracy: 0.1736 - val_loss: 2.2989 - val_accuracy: 0.3867\n",
            "Epoch 2/5\n",
            "272/272 [==============================] - 4s 14ms/step - loss: 2.0181 - accuracy: 0.4172 - val_loss: 1.3060 - val_accuracy: 0.6352\n",
            "Epoch 3/5\n",
            "272/272 [==============================] - 4s 14ms/step - loss: 1.3257 - accuracy: 0.6010 - val_loss: 0.5634 - val_accuracy: 0.8622\n",
            "Epoch 4/5\n",
            "272/272 [==============================] - 4s 14ms/step - loss: 0.7781 - accuracy: 0.7665 - val_loss: 0.2875 - val_accuracy: 0.9349\n",
            "Epoch 5/5\n",
            "272/272 [==============================] - 4s 14ms/step - loss: 0.5502 - accuracy: 0.8338 - val_loss: 0.1918 - val_accuracy: 0.9589\n"
          ],
          "name": "stdout"
        },
        {
          "output_type": "execute_result",
          "data": {
            "text/plain": [
              "0.9507936507936507"
            ]
          },
          "metadata": {
            "tags": []
          },
          "execution_count": 79
        }
      ]
    },
    {
      "cell_type": "code",
      "metadata": {
        "id": "KS8BpwAtlbpD",
        "colab_type": "code",
        "outputId": "613d058b-bd6d-4b8f-b2c6-55ca6e3fced1",
        "colab": {
          "base_uri": "https://localhost:8080/",
          "height": 235
        }
      },
      "source": [
        "def getCNN_v4(aInputShape: list, aNumClasses: int) -> Sequential:\n",
        "    return Sequential([\n",
        "        Conv2D(filters = 32, kernel_size = (3, 3), activation = 'relu', input_shape = aInputShape),\n",
        "        Conv2D(filters = 32, kernel_size = (3, 3), activation = 'relu'),\n",
        "        MaxPool2D(),\n",
        "        Dropout(0.3),\n",
        "        \n",
        "        Conv2D(filters = 64, kernel_size = (3, 3), activation = 'relu'),\n",
        "        Conv2D(filters = 64, kernel_size = (3, 3), activation = 'relu'),\n",
        "        MaxPool2D(),\n",
        "        Dropout(0.3),\n",
        "        \n",
        "        Flatten(),\n",
        "\n",
        "        Dense(1024, activation = 'relu'),\n",
        "        Dropout(0.3),\n",
        "\n",
        "        Dense(aNumClasses, activation = 'softmax')\n",
        "    ])\n",
        "\n",
        "trainAndPredict(getCNN_v4(inputShape, numClasses))"
      ],
      "execution_count": 0,
      "outputs": [
        {
          "output_type": "stream",
          "text": [
            "Epoch 1/5\n",
            "272/272 [==============================] - 5s 19ms/step - loss: 2.0153 - accuracy: 0.5666 - val_loss: 0.2781 - val_accuracy: 0.9455\n",
            "Epoch 2/5\n",
            "272/272 [==============================] - 5s 19ms/step - loss: 0.4502 - accuracy: 0.8678 - val_loss: 0.0916 - val_accuracy: 0.9803\n",
            "Epoch 3/5\n",
            "272/272 [==============================] - 5s 19ms/step - loss: 0.2632 - accuracy: 0.9223 - val_loss: 0.0516 - val_accuracy: 0.9867\n",
            "Epoch 4/5\n",
            "272/272 [==============================] - 5s 19ms/step - loss: 0.1819 - accuracy: 0.9465 - val_loss: 0.0372 - val_accuracy: 0.9911\n",
            "Epoch 5/5\n",
            "272/272 [==============================] - 5s 19ms/step - loss: 0.1502 - accuracy: 0.9546 - val_loss: 0.0248 - val_accuracy: 0.9945\n"
          ],
          "name": "stdout"
        },
        {
          "output_type": "execute_result",
          "data": {
            "text/plain": [
              "0.9507936507936507"
            ]
          },
          "metadata": {
            "tags": []
          },
          "execution_count": 80
        }
      ]
    },
    {
      "cell_type": "code",
      "metadata": {
        "id": "ek_xMinom_VI",
        "colab_type": "code",
        "outputId": "d5528531-24b9-4cb4-c9b4-91d359fb7335",
        "colab": {
          "base_uri": "https://localhost:8080/",
          "height": 235
        }
      },
      "source": [
        "def getCNN_v5(aInputShape: list, aNumClasses: int) -> Sequential:\n",
        "    return Sequential([\n",
        "        Conv2D(filters = 32, kernel_size = (3, 3), activation = 'relu', input_shape = aInputShape),\n",
        "        Conv2D(filters = 32, kernel_size = (3, 3), activation = 'relu', padding = 'same'),\n",
        "        MaxPool2D(),\n",
        "        Dropout(0.3),\n",
        "        \n",
        "        Conv2D(filters = 64, kernel_size = (3, 3), activation = 'relu', padding = 'same'),\n",
        "        Conv2D(filters = 64, kernel_size = (3, 3), activation = 'relu'),\n",
        "        MaxPool2D(),\n",
        "        Dropout(0.3),\n",
        "\n",
        "        Conv2D(filters = 64, kernel_size = (3, 3), activation = 'relu', padding = 'same'),\n",
        "        Conv2D(filters = 64, kernel_size = (3, 3), activation = 'relu'),\n",
        "        MaxPool2D(),\n",
        "        Dropout(0.3),\n",
        "        \n",
        "        Flatten(),\n",
        "\n",
        "        Dense(1024, activation = 'relu'),\n",
        "        Dropout(0.3),\n",
        "\n",
        "        Dense(aNumClasses, activation = 'softmax')\n",
        "    ])\n",
        "\n",
        "# getCNN_v5(inputShape, numClasses).summary()\n",
        "\n",
        "trainAndPredict(getCNN_v5(inputShape, numClasses))"
      ],
      "execution_count": 0,
      "outputs": [
        {
          "output_type": "stream",
          "text": [
            "Epoch 1/5\n",
            "272/272 [==============================] - 6s 23ms/step - loss: 2.3669 - accuracy: 0.3718 - val_loss: 0.6521 - val_accuracy: 0.8217\n",
            "Epoch 2/5\n",
            "272/272 [==============================] - 6s 22ms/step - loss: 0.6010 - accuracy: 0.8164 - val_loss: 0.1127 - val_accuracy: 0.9671\n",
            "Epoch 3/5\n",
            "272/272 [==============================] - 6s 22ms/step - loss: 0.2898 - accuracy: 0.9141 - val_loss: 0.0845 - val_accuracy: 0.9745\n",
            "Epoch 4/5\n",
            "272/272 [==============================] - 6s 22ms/step - loss: 0.2012 - accuracy: 0.9394 - val_loss: 0.0537 - val_accuracy: 0.9847\n",
            "Epoch 5/5\n",
            "272/272 [==============================] - 6s 22ms/step - loss: 0.1571 - accuracy: 0.9527 - val_loss: 0.0313 - val_accuracy: 0.9919\n"
          ],
          "name": "stdout"
        },
        {
          "output_type": "execute_result",
          "data": {
            "text/plain": [
              "0.9507936507936507"
            ]
          },
          "metadata": {
            "tags": []
          },
          "execution_count": 81
        }
      ]
    },
    {
      "cell_type": "code",
      "metadata": {
        "id": "aJ6eezpEndMM",
        "colab_type": "code",
        "outputId": "58dad5c3-70d5-4592-85a6-5c164ecc4f4e",
        "colab": {
          "base_uri": "https://localhost:8080/",
          "height": 235
        }
      },
      "source": [
        "def getCNN_v6(aInputShape: list, aNumClasses: int) -> Sequential:\n",
        "    return Sequential([\n",
        "        Conv2D(filters = 32, kernel_size = (3, 3), activation = 'relu', input_shape = aInputShape),\n",
        "        Conv2D(filters = 32, kernel_size = (3, 3), activation = 'relu', padding = 'same'),\n",
        "        MaxPool2D(),\n",
        "        Dropout(0.3),\n",
        "        \n",
        "        Conv2D(filters = 64, kernel_size = (3, 3), activation = 'relu', padding = 'same'),\n",
        "        Conv2D(filters = 64, kernel_size = (3, 3), activation = 'relu'),\n",
        "        MaxPool2D(),\n",
        "        Dropout(0.3),\n",
        "\n",
        "        Conv2D(filters = 64, kernel_size = (3, 3), activation = 'relu', padding = 'same'),\n",
        "        Conv2D(filters = 64, kernel_size = (3, 3), activation = 'relu'),\n",
        "        MaxPool2D(),\n",
        "        Dropout(0.3),\n",
        "        \n",
        "        Flatten(),\n",
        "\n",
        "        Dense(1024, activation = 'relu'),\n",
        "        Dropout(0.3),\n",
        "\n",
        "        Dense(1024, activation = 'relu'),\n",
        "        Dropout(0.3),\n",
        "\n",
        "        Dense(aNumClasses, activation = 'softmax')\n",
        "    ])\n",
        "\n",
        "# getCNN_v6(inputShape, numClasses).summary()\n",
        "\n",
        "trainAndPredict(getCNN_v6(inputShape, numClasses))"
      ],
      "execution_count": 0,
      "outputs": [
        {
          "output_type": "stream",
          "text": [
            "Epoch 1/5\n",
            "272/272 [==============================] - 7s 24ms/step - loss: 2.7032 - accuracy: 0.2559 - val_loss: 1.0678 - val_accuracy: 0.6725\n",
            "Epoch 2/5\n",
            "272/272 [==============================] - 6s 23ms/step - loss: 0.8565 - accuracy: 0.7323 - val_loss: 0.2307 - val_accuracy: 0.9326\n",
            "Epoch 3/5\n",
            "272/272 [==============================] - 6s 23ms/step - loss: 0.3947 - accuracy: 0.8803 - val_loss: 0.0780 - val_accuracy: 0.9787\n",
            "Epoch 4/5\n",
            "272/272 [==============================] - 6s 23ms/step - loss: 0.2672 - accuracy: 0.9189 - val_loss: 0.0681 - val_accuracy: 0.9811\n",
            "Epoch 5/5\n",
            "272/272 [==============================] - 6s 23ms/step - loss: 0.1992 - accuracy: 0.9397 - val_loss: 0.0355 - val_accuracy: 0.9898\n"
          ],
          "name": "stdout"
        },
        {
          "output_type": "execute_result",
          "data": {
            "text/plain": [
              "0.9507936507936507"
            ]
          },
          "metadata": {
            "tags": []
          },
          "execution_count": 82
        }
      ]
    },
    {
      "cell_type": "code",
      "metadata": {
        "id": "qHUreyPVoXTX",
        "colab_type": "code",
        "outputId": "07d9248e-5100-47bc-f042-4134c9dda7cc",
        "colab": {
          "base_uri": "https://localhost:8080/",
          "height": 284
        }
      },
      "source": [
        "plt.imshow(color.rgb2gray(xTrain[0]), cmap = plt.get_cmap('gray'))"
      ],
      "execution_count": 0,
      "outputs": [
        {
          "output_type": "execute_result",
          "data": {
            "text/plain": [
              "<matplotlib.image.AxesImage at 0x7f60a8545048>"
            ]
          },
          "metadata": {
            "tags": []
          },
          "execution_count": 83
        },
        {
          "output_type": "display_data",
          "data": {
            "image/png": "[encoded data removed]",
            "text/plain": [
              "<Figure size 432x288 with 1 Axes>"
            ]
          },
          "metadata": {
            "tags": []
          }
        }
      ]
    },
    {
      "cell_type": "code",
      "metadata": {
        "id": "HK2D7-JepLGR",
        "colab_type": "code",
        "colab": {}
      },
      "source": [
        "xTrainGray = color.rgb2gray(xTrain).reshape(-1, 32, 32, 1)\n",
        "xTestGray = color.rgb2gray(xTest).reshape(-1, 32, 32, 1)"
      ],
      "execution_count": 0,
      "outputs": []
    },
    {
      "cell_type": "code",
      "metadata": {
        "id": "4P_u29yJrLJH",
        "colab_type": "code",
        "outputId": "469d4d5b-9cb0-4259-9ed6-aaac00c18acd",
        "colab": {
          "base_uri": "https://localhost:8080/",
          "height": 215
        }
      },
      "source": [
        "model = getCNN_v6((32, 32, 1), numClasses)\n",
        "modelTrained = trainModel(model, xTrainGray, yTrain, aParamsFit = {})\n",
        "predict(modelTrained, xTestGray, yTest)"
      ],
      "execution_count": 0,
      "outputs": [
        {
          "output_type": "stream",
          "text": [
            "Epoch 1/5\n",
            "272/272 [==============================] - 7s 25ms/step - loss: 2.4870 - accuracy: 0.3061 - val_loss: 0.5920 - val_accuracy: 0.8092\n",
            "Epoch 2/5\n",
            "272/272 [==============================] - 6s 24ms/step - loss: 0.4874 - accuracy: 0.8417 - val_loss: 0.1375 - val_accuracy: 0.9563\n",
            "Epoch 3/5\n",
            "272/272 [==============================] - 6s 24ms/step - loss: 0.2286 - accuracy: 0.9271 - val_loss: 0.0614 - val_accuracy: 0.9830\n",
            "Epoch 4/5\n",
            "272/272 [==============================] - 6s 24ms/step - loss: 0.1495 - accuracy: 0.9525 - val_loss: 0.0343 - val_accuracy: 0.9902\n",
            "Epoch 5/5\n",
            "272/272 [==============================] - 6s 24ms/step - loss: 0.1182 - accuracy: 0.9626 - val_loss: 0.0204 - val_accuracy: 0.9941\n"
          ],
          "name": "stdout"
        },
        {
          "output_type": "execute_result",
          "data": {
            "text/plain": [
              "0.9682539682539683"
            ]
          },
          "metadata": {
            "tags": []
          },
          "execution_count": 94
        }
      ]
    },
    {
      "cell_type": "code",
      "metadata": {
        "id": "u9gpNQGdrijD",
        "colab_type": "code",
        "colab": {}
      },
      "source": [
        ""
      ],
      "execution_count": 0,
      "outputs": []
    }
  ]
}