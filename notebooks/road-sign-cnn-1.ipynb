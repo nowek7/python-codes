{
 "cells": [
  {
   "cell_type": "code",
   "execution_count": 1,
   "metadata": {},
   "outputs": [],
   "source": [
    "import pandas as pd\n",
    "import numpy as np\n",
    "import os\n",
    "import datetime\n",
    "\n",
    "import tensorflow as tf\n",
    "from tensorflow.keras.models import Sequential\n",
    "from tensorflow.keras.layers import Conv2D, MaxPool2D, Dense, Flatten, Dropout\n",
    "from tensorflow.keras.utils import to_categorical\n",
    "\n",
    "# %load_ext tensorboard"
   ]
  },
  {
   "cell_type": "code",
   "execution_count": 2,
   "metadata": {},
   "outputs": [],
   "source": [
    "train = pd.read_pickle('../data/train.p')\n",
    "test = pd.read_pickle('../data/test.p')\n",
    "signnames = pd.read_csv('../data/signnames.csv')"
   ]
  },
  {
   "cell_type": "code",
   "execution_count": 3,
   "metadata": {},
   "outputs": [],
   "source": [
    "xTrain, yTrain = train['features'], train['labels']\n",
    "xTest, yTest = test['features'], test['labels']"
   ]
  },
  {
   "cell_type": "code",
   "execution_count": 4,
   "metadata": {},
   "outputs": [],
   "source": [
    "if yTrain.ndim == 1:\n",
    "    yTrain = to_categorical(yTrain)\n",
    "    \n",
    "if yTest.ndim == 1:\n",
    "    yTest = to_categorical(yTest)"
   ]
  },
  {
   "cell_type": "code",
   "execution_count": 5,
   "metadata": {},
   "outputs": [],
   "source": [
    "inputShape = xTrain.shape[1:]\n",
    "numClasses = yTrain.shape[1]"
   ]
  },
  {
   "cell_type": "code",
   "execution_count": 6,
   "metadata": {},
   "outputs": [
    {
     "name": "stdout",
     "output_type": "stream",
     "text": [
      "Model: \"sequential\"\n",
      "_________________________________________________________________\n",
      "Layer (type)                 Output Shape              Param #   \n",
      "=================================================================\n",
      "conv2d (Conv2D)              (None, 30, 30, 64)        1792      \n",
      "_________________________________________________________________\n",
      "flatten (Flatten)            (None, 57600)             0         \n",
      "_________________________________________________________________\n",
      "dense (Dense)                (None, 43)                2476843   \n",
      "=================================================================\n",
      "Total params: 2,478,635\n",
      "Trainable params: 2,478,635\n",
      "Non-trainable params: 0\n",
      "_________________________________________________________________\n",
      "1088/1088 [==============================] - 31s 28ms/step - loss: 11.0520 - accuracy: 0.7813\n"
     ]
    },
    {
     "data": {
      "text/plain": [
       "<tensorflow.python.keras.callbacks.History at 0x16b3b6a9be0>"
      ]
     },
     "execution_count": 6,
     "metadata": {},
     "output_type": "execute_result"
    }
   ],
   "source": [
    "model = Sequential([\n",
    "    Conv2D(filters = 64, kernel_size = (3, 3), activation = 'relu', input_shape = inputShape),\n",
    "    Flatten(),\n",
    "    Dense(numClasses, activation = 'softmax')\n",
    "])\n",
    "\n",
    "model.summary()\n",
    "\n",
    "model.compile(loss = 'categorical_crossentropy', optimizer = 'Adam', metrics = ['accuracy'])\n",
    "model.fit(xTrain, yTrain)"
   ]
  },
  {
   "cell_type": "code",
   "execution_count": 7,
   "metadata": {},
   "outputs": [],
   "source": [
    "def getCNN_v1(aInputShape: list, aNumClasses: int) -> Sequential:\n",
    "    return Sequential([\n",
    "        Conv2D(filters = 64, kernel_size = (3, 3), activation = 'relu', input_shape = aInputShape),\n",
    "        Flatten(),\n",
    "        Dense(aNumClasses, activation = 'softmax')\n",
    "    ])\n",
    "\n",
    "def trainModel(aModel: Sequential, aXTrain, aYTrain, aParamsFit = {}):\n",
    "    aModel.compile(loss = 'categorical_crossentropy', optimizer = 'Adam', metrics = ['accuracy'])\n",
    "    \n",
    "    logdir = os.path.join('logs', datetime.datetime.now().strftime('%y%m%d-%H%M%S'))\n",
    "    tensorboardCallback = tf.keras.callbacks.TensorBoard(logdir, histogram_freq = 1)\n",
    "    \n",
    "    aModel.fit(\n",
    "        xTrain, \n",
    "        yTrain,\n",
    "        batch_size = aParamsFit.get('batch_size', 128),\n",
    "        epochs = aParamsFit.get('epochs', 5),\n",
    "        verbose = aParamsFit.get('verbose', 1),\n",
    "        validation_data = aParamsFit.get('validation_data', (xTrain, yTrain)),\n",
    "        callbacks = [tensorboardCallback])\n",
    "    \n",
    "    return logdir"
   ]
  },
  {
   "cell_type": "code",
   "execution_count": 8,
   "metadata": {},
   "outputs": [
    {
     "name": "stdout",
     "output_type": "stream",
     "text": [
      "Epoch 1/5\n",
      "  2/272 [..............................] - ETA: 1:16 - loss: 183.4510 - accuracy: 0.0586WARNING:tensorflow:Method (on_train_batch_end) is slow compared to the batch update (0.264367). Check your callbacks.\n",
      "272/272 [==============================] - 27s 99ms/step - loss: 28.3521 - accuracy: 0.7494 - val_loss: 0.2432 - val_accuracy: 0.9424\n",
      "Epoch 2/5\n",
      "272/272 [==============================] - 27s 99ms/step - loss: 0.2025 - accuracy: 0.9543 - val_loss: 0.1150 - val_accuracy: 0.9716\n",
      "Epoch 3/5\n",
      "272/272 [==============================] - 27s 98ms/step - loss: 0.1222 - accuracy: 0.9722 - val_loss: 0.0752 - val_accuracy: 0.9802\n",
      "Epoch 4/5\n",
      "272/272 [==============================] - 26s 95ms/step - loss: 0.1140 - accuracy: 0.9733 - val_loss: 0.0896 - val_accuracy: 0.9809\n",
      "Epoch 5/5\n",
      "272/272 [==============================] - 28s 101ms/step - loss: 0.0926 - accuracy: 0.9785 - val_loss: 0.0953 - val_accuracy: 0.9755\n"
     ]
    }
   ],
   "source": [
    "model = getCNN_v1(inputShape, numClasses)\n",
    "logdir = trainModel(model, xTrain, yTrain)"
   ]
  },
  {
   "cell_type": "code",
   "execution_count": 9,
   "metadata": {},
   "outputs": [],
   "source": [
    "# %tensorboard --logdir logs"
   ]
  },
  {
   "cell_type": "code",
   "execution_count": 10,
   "metadata": {},
   "outputs": [
    {
     "name": "stdout",
     "output_type": "stream",
     "text": [
      "Model: \"sequential_2\"\n",
      "_________________________________________________________________\n",
      "Layer (type)                 Output Shape              Param #   \n",
      "=================================================================\n",
      "conv2d_2 (Conv2D)            (None, 30, 30, 32)        896       \n",
      "_________________________________________________________________\n",
      "max_pooling2d (MaxPooling2D) (None, 15, 15, 32)        0         \n",
      "_________________________________________________________________\n",
      "dropout (Dropout)            (None, 15, 15, 32)        0         \n",
      "_________________________________________________________________\n",
      "conv2d_3 (Conv2D)            (None, 13, 13, 64)        18496     \n",
      "_________________________________________________________________\n",
      "max_pooling2d_1 (MaxPooling2 (None, 6, 6, 64)          0         \n",
      "_________________________________________________________________\n",
      "dropout_1 (Dropout)          (None, 6, 6, 64)          0         \n",
      "_________________________________________________________________\n",
      "flatten_2 (Flatten)          (None, 2304)              0         \n",
      "_________________________________________________________________\n",
      "dense_2 (Dense)              (None, 1024)              2360320   \n",
      "_________________________________________________________________\n",
      "dropout_2 (Dropout)          (None, 1024)              0         \n",
      "_________________________________________________________________\n",
      "dense_3 (Dense)              (None, 43)                44075     \n",
      "=================================================================\n",
      "Total params: 2,423,787\n",
      "Trainable params: 2,423,787\n",
      "Non-trainable params: 0\n",
      "_________________________________________________________________\n"
     ]
    }
   ],
   "source": [
    "def getCNN_v2(aInputShape: list, aNumClasses: int) -> Sequential:\n",
    "    return Sequential([\n",
    "        Conv2D(filters = 32, kernel_size = (3, 3), activation = 'relu', input_shape = aInputShape),\n",
    "        MaxPool2D(),\n",
    "        Dropout(0.5),\n",
    "        \n",
    "        Conv2D(filters = 64, kernel_size = (3, 3), activation = 'relu', input_shape = aInputShape),\n",
    "        MaxPool2D(),\n",
    "        Dropout(0.3),\n",
    "        \n",
    "        Flatten(),\n",
    "        \n",
    "        Dense(1024, activation = 'relu'),\n",
    "        Dropout(0.5),\n",
    "        \n",
    "        Dense(aNumClasses, activation = 'softmax')\n",
    "    ])\n",
    "\n",
    "getCNN_v2(inputShape, numClasses).summary()"
   ]
  },
  {
   "cell_type": "code",
   "execution_count": 11,
   "metadata": {},
   "outputs": [
    {
     "name": "stdout",
     "output_type": "stream",
     "text": [
      "Epoch 1/25\n",
      "  2/272 [..............................] - ETA: 3:23 - loss: 180.2083 - accuracy: 0.0586WARNING:tensorflow:Method (on_train_batch_end) is slow compared to the batch update (0.700252). Check your callbacks.\n",
      "272/272 [==============================] - 40s 148ms/step - loss: 6.4246 - accuracy: 0.1979 - val_loss: 1.7975 - val_accuracy: 0.5207\n",
      "Epoch 2/25\n",
      "272/272 [==============================] - 36s 131ms/step - loss: 1.6474 - accuracy: 0.5143 - val_loss: 0.8450 - val_accuracy: 0.7867\n",
      "Epoch 3/25\n",
      "272/272 [==============================] - 35s 131ms/step - loss: 0.9990 - accuracy: 0.6944 - val_loss: 0.3737 - val_accuracy: 0.9068\n",
      "Epoch 4/25\n",
      "272/272 [==============================] - 35s 129ms/step - loss: 0.6936 - accuracy: 0.7869 - val_loss: 0.2286 - val_accuracy: 0.9480\n",
      "Epoch 5/25\n",
      "272/272 [==============================] - 35s 130ms/step - loss: 0.5386 - accuracy: 0.8314 - val_loss: 0.1503 - val_accuracy: 0.9638\n",
      "Epoch 6/25\n",
      "272/272 [==============================] - 35s 129ms/step - loss: 0.4480 - accuracy: 0.8604 - val_loss: 0.1291 - val_accuracy: 0.9703\n",
      "Epoch 7/25\n",
      "272/272 [==============================] - 35s 129ms/step - loss: 0.4061 - accuracy: 0.8767 - val_loss: 0.1068 - val_accuracy: 0.9699\n",
      "Epoch 8/25\n",
      "272/272 [==============================] - 35s 129ms/step - loss: 0.3721 - accuracy: 0.8855 - val_loss: 0.0967 - val_accuracy: 0.9720\n",
      "Epoch 9/25\n",
      "272/272 [==============================] - 35s 130ms/step - loss: 0.3279 - accuracy: 0.8993 - val_loss: 0.0713 - val_accuracy: 0.9827\n",
      "Epoch 10/25\n",
      "272/272 [==============================] - 36s 133ms/step - loss: 0.2960 - accuracy: 0.9108 - val_loss: 0.0569 - val_accuracy: 0.9870\n",
      "Epoch 11/25\n",
      "272/272 [==============================] - 36s 132ms/step - loss: 0.2846 - accuracy: 0.9124 - val_loss: 0.0590 - val_accuracy: 0.9870\n",
      "Epoch 12/25\n",
      "272/272 [==============================] - 36s 132ms/step - loss: 0.2839 - accuracy: 0.9153 - val_loss: 0.0512 - val_accuracy: 0.9850\n",
      "Epoch 13/25\n",
      "272/272 [==============================] - 38s 138ms/step - loss: 0.2576 - accuracy: 0.9236 - val_loss: 0.0539 - val_accuracy: 0.9868\n",
      "Epoch 14/25\n",
      "272/272 [==============================] - 36s 133ms/step - loss: 0.2445 - accuracy: 0.9261 - val_loss: 0.0352 - val_accuracy: 0.9905\n",
      "Epoch 15/25\n",
      "272/272 [==============================] - 36s 131ms/step - loss: 0.2588 - accuracy: 0.9220 - val_loss: 0.0579 - val_accuracy: 0.9823\n",
      "Epoch 16/25\n",
      "272/272 [==============================] - 35s 130ms/step - loss: 0.2317 - accuracy: 0.9319 - val_loss: 0.0362 - val_accuracy: 0.9918\n",
      "Epoch 17/25\n",
      "272/272 [==============================] - 35s 129ms/step - loss: 0.2292 - accuracy: 0.9323 - val_loss: 0.0437 - val_accuracy: 0.9897\n",
      "Epoch 18/25\n",
      "272/272 [==============================] - 37s 136ms/step - loss: 0.2405 - accuracy: 0.9312 - val_loss: 0.0372 - val_accuracy: 0.9907\n",
      "Epoch 19/25\n",
      "272/272 [==============================] - 39s 143ms/step - loss: 0.2396 - accuracy: 0.9334 - val_loss: 0.0322 - val_accuracy: 0.9920\n",
      "Epoch 20/25\n",
      "272/272 [==============================] - 40s 147ms/step - loss: 0.2239 - accuracy: 0.9376 - val_loss: 0.0304 - val_accuracy: 0.9904\n",
      "Epoch 21/25\n",
      "272/272 [==============================] - 41s 151ms/step - loss: 0.2324 - accuracy: 0.9354 - val_loss: 0.0315 - val_accuracy: 0.9900\n",
      "Epoch 22/25\n",
      "272/272 [==============================] - 42s 155ms/step - loss: 0.2182 - accuracy: 0.9372 - val_loss: 0.0261 - val_accuracy: 0.9924\n",
      "Epoch 23/25\n",
      "272/272 [==============================] - 40s 148ms/step - loss: 0.2216 - accuracy: 0.9393 - val_loss: 0.0290 - val_accuracy: 0.9906\n",
      "Epoch 24/25\n",
      "272/272 [==============================] - 41s 149ms/step - loss: 0.2359 - accuracy: 0.9342 - val_loss: 0.0261 - val_accuracy: 0.9920\n",
      "Epoch 25/25\n",
      "272/272 [==============================] - 44s 162ms/step - loss: 0.2538 - accuracy: 0.9350 - val_loss: 0.0242 - val_accuracy: 0.9945\n"
     ]
    },
    {
     "data": {
      "text/plain": [
       "'logs\\\\200401-185339'"
      ]
     },
     "execution_count": 11,
     "metadata": {},
     "output_type": "execute_result"
    }
   ],
   "source": [
    "model = getCNN_v2(inputShape, numClasses)\n",
    "paramsFit = {'epochs': 25}\n",
    "trainModel(model, xTrain, yTrain, paramsFit)"
   ]
  },
  {
   "cell_type": "code",
   "execution_count": 12,
   "metadata": {},
   "outputs": [],
   "source": [
    "# %tensorboard --logdir logs"
   ]
  }
 ],
 "metadata": {
  "kernelspec": {
   "display_name": "Python 3",
   "language": "python",
   "name": "python3"
  },
  "language_info": {
   "codemirror_mode": {
    "name": "ipython",
    "version": 3
   },
   "file_extension": ".py",
   "mimetype": "text/x-python",
   "name": "python",
   "nbconvert_exporter": "python",
   "pygments_lexer": "ipython3",
   "version": "3.8.1"
  }
 },
 "nbformat": 4,
 "nbformat_minor": 4
}
