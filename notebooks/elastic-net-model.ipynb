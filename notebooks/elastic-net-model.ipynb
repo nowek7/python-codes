{
 "cells": [
  {
   "cell_type": "markdown",
   "metadata": {},
   "source": [
    "# Regresja Elastic Net - Elastic Net Regression"
   ]
  },
  {
   "cell_type": "markdown",
   "metadata": {},
   "source": [
    "### Biblioteki"
   ]
  },
  {
   "cell_type": "code",
   "execution_count": null,
   "metadata": {},
   "outputs": [],
   "source": [
    "import os\n",
    "\n",
    "from collections import defaultdict\n",
    "from itertools import combinations\n",
    "\n",
    "import numpy as np\n",
    "import pandas as pd\n",
    "\n",
    "from sklearn.preprocessing import scale \n",
    "from sklearn.model_selection import train_test_split\n",
    "from sklearn.linear_model import ElasticNet\n",
    "from sklearn import metrics"
   ]
  },
  {
   "cell_type": "markdown",
   "metadata": {},
   "source": [
    "### Stałe"
   ]
  },
  {
   "cell_type": "code",
   "execution_count": null,
   "metadata": {},
   "outputs": [],
   "source": [
    "MIN_SIZE_PREDICTORS = 2\n",
    "MAX_SIZE_PREDICTORS = 15"
   ]
  },
  {
   "cell_type": "markdown",
   "metadata": {},
   "source": [
    "### Odczytanie danych"
   ]
  },
  {
   "cell_type": "code",
   "execution_count": null,
   "metadata": {},
   "outputs": [],
   "source": [
    "# Adres folderu, gdzie zapisano dane.\n",
    "folder_data = \"data\"\n",
    "\n",
    "X = pd.read_hdf(os.path.join(folder_data, \"X.h5\"), \"data\")\n",
    "Y = pd.read_hdf(os.path.join(folder_data, \"Y.h5\"), \"data\")"
   ]
  },
  {
   "cell_type": "markdown",
   "metadata": {},
   "source": [
    "### Loss function - R^2"
   ]
  },
  {
   "cell_type": "code",
   "execution_count": null,
   "metadata": {},
   "outputs": [],
   "source": [
    "def metric(Y, Y_pred):\n",
    "    return metrics.r2_score(Y, Y_pred)"
   ]
  },
  {
   "cell_type": "markdown",
   "metadata": {},
   "source": [
    "### Lista wyselekcjonowanych predykatorów"
   ]
  },
  {
   "cell_type": "code",
   "execution_count": null,
   "metadata": {},
   "outputs": [],
   "source": [
    "selected_predictors = [\n",
    "    'f1', 'f15', 'f30', 'f45', 'f66', 'f134', 'f198', \n",
    "    'f202', 'f207', 'f208', 'f209', 'f211', 'f212', 'f213', \n",
    "    'f221', 'f259', 'f260', 'f267', 'f268', 'f275', 'f276', \n",
    "    'f280', 'f284', 'f288', 'f289', 'f290', 'f291', 'f292'\n",
    "]\n",
    "SELECTED_PREDICTORS = frozenset(selected_predictors)"
   ]
  },
  {
   "cell_type": "markdown",
   "metadata": {},
   "source": [
    "### Dane predykatorów"
   ]
  },
  {
   "cell_type": "code",
   "execution_count": null,
   "metadata": {},
   "outputs": [],
   "source": [
    "SELECTED_X_DATA = X[SELECTED_PREDICTORS]\n",
    "\n",
    "X_train, X_test , y_train, y_test = train_test_split(SELECTED_X_DATA, Y, test_size=0.3, random_state=1)"
   ]
  },
  {
   "cell_type": "markdown",
   "metadata": {},
   "source": [
    "### Model"
   ]
  },
  {
   "cell_type": "code",
   "execution_count": null,
   "metadata": {},
   "outputs": [],
   "source": [
    "bestModels = {}\n",
    "vector_combinations = {}\n",
    "for i in range(MIN_SIZE_PREDICTORS, MAX_SIZE_PREDICTORS + 1):\n",
    "    vector_combinations[i] = combinations(list(SELECTED_PREDICTORS), i)\n",
    "    \n",
    "    bestModels[i] = {}\n",
    "    for combo in vector_combinations[i]:\n",
    "        predictors = list(combo)\n",
    "\n",
    "        # Definiujemy model.\n",
    "        model = ElasticNet(normalize = True)\n",
    "\n",
    "        # Dopasowujemy model do danych treningowych.\n",
    "        model.fit(X_train[predictors], y_train)\n",
    "\n",
    "        # Obliczanie wartości R2.\n",
    "        score = np.round(model.score(X_test[predictors], y_test), 2)\n",
    "        \n",
    "        # Predykcja.\n",
    "        y_pred = model.predict(X_test[predictors])\n",
    "\n",
    "        # Obliczanie błędu\n",
    "        loss_value = metric(y_test, y_pred)\n",
    "\n",
    "        entry = {\n",
    "          'predictors': predictors,\n",
    "          'model': model, \n",
    "          'score': score, \n",
    "          'loss_value': loss_value\n",
    "          }\n",
    "\n",
    "        if not bestModels[i]:\n",
    "            bestModels[i] = entry\n",
    "        elif bestModels[i]['loss_value'] < loss_value:\n",
    "            bestModels[i] = entry"
   ]
  },
  {
   "cell_type": "code",
   "execution_count": null,
   "metadata": {},
   "outputs": [],
   "source": [
    "bestModels"
   ]
  }
 ],
 "metadata": {
  "kernelspec": {
   "display_name": "Python 3",
   "language": "python",
   "name": "python3"
  },
  "language_info": {
   "codemirror_mode": {
    "name": "ipython",
    "version": 3
   },
   "file_extension": ".py",
   "mimetype": "text/x-python",
   "name": "python",
   "nbconvert_exporter": "python",
   "pygments_lexer": "ipython3",
   "version": "3.8.1"
  }
 },
 "nbformat": 4,
 "nbformat_minor": 4
}
